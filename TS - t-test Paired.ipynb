{
 "cells": [
  {
   "cell_type": "markdown",
   "metadata": {},
   "source": [
    "# Paired Samples t-Test\n",
    "*By P. Stikker*<br>\n",
    "https://PeterStatistics.com<br>\n",
    "https://www.youtube.com/stikpet<br>"
   ]
  },
  {
   "cell_type": "markdown",
   "metadata": {},
   "source": [
    "## Introduction"
   ]
  },
  {
   "cell_type": "markdown",
   "metadata": {},
   "source": [
    "A paired samples t-test can be used to check if the difference in the population will also be different from zero (i.e. the two means are not the same). \n",
    "\n",
    "Note that unlike a two samples t-test we do not need to check if the variances are equal, since the data is paired (McDonald, 2014, p. 182). For the interested reader, there is a nice discussion on this on <a href=\"https://www.researchgate.net/post/Do_you_agree_that_homogeneity_of_variance_is_an_assumption_for_paired_samples_t-test\">researchgate</a>."
   ]
  },
  {
   "cell_type": "markdown",
   "metadata": {},
   "source": [
    "## Example"
   ]
  },
  {
   "cell_type": "markdown",
   "metadata": {},
   "source": [
    "To show an example, I'll load some data as a pandas dataframe. So I'll need the '<a href=\"https://pandas.pydata.org\">pandas</a>' library:"
   ]
  },
  {
   "cell_type": "code",
   "execution_count": 21,
   "metadata": {},
   "outputs": [],
   "source": [
    "#!pip install pandas\n",
    "import pandas as pd"
   ]
  },
  {
   "cell_type": "markdown",
   "metadata": {},
   "source": [
    "And then load the example data using the <a href=\"https://pandas.pydata.org/pandas-docs/stable/reference/api/pandas.read_csv.html\">'read_csv'</a>. "
   ]
  },
  {
   "cell_type": "code",
   "execution_count": 5,
   "metadata": {},
   "outputs": [
    {
     "ename": "NameError",
     "evalue": "name 'pd' is not defined",
     "output_type": "error",
     "traceback": [
      "\u001b[1;31m---------------------------------------------------------------------------\u001b[0m",
      "\u001b[1;31mNameError\u001b[0m                                 Traceback (most recent call last)",
      "Cell \u001b[1;32mIn[5], line 1\u001b[0m\n\u001b[1;32m----> 1\u001b[0m myDf \u001b[38;5;241m=\u001b[39m \u001b[43mpd\u001b[49m\u001b[38;5;241m.\u001b[39mread_csv(\u001b[38;5;124m'\u001b[39m\u001b[38;5;124m../../pairedTtest.csv\u001b[39m\u001b[38;5;124m'\u001b[39m)\n\u001b[0;32m      2\u001b[0m myDf\u001b[38;5;241m.\u001b[39mhead()\n",
      "\u001b[1;31mNameError\u001b[0m: name 'pd' is not defined"
     ]
    }
   ],
   "source": [
    "myDf = pd.read_csv('../../pairedTtest.csv')\n",
    "myDf.head()"
   ]
  },
  {
   "cell_type": "markdown",
   "metadata": {},
   "source": [
    "One simple method to perform a paired samples t test is to use '<a href=\"https://docs.scipy.org/doc/scipy/reference/generated/scipy.stats.ttest_rel.html\">ttest_rel</a>' function of the scipy.stats package. We can load this function using:"
   ]
  },
  {
   "cell_type": "code",
   "execution_count": 23,
   "metadata": {},
   "outputs": [],
   "source": [
    "# !pip install scipy\n",
    "from scipy.stats import ttest_rel"
   ]
  },
  {
   "cell_type": "markdown",
   "metadata": {},
   "source": [
    "To use the function we select the two fields of interes, and also decide on what to do if there are missing values (nan). There are three options to choose from in the *nan_policy*. The default is to 'propagate' which simply indicates the test will return 'nan', another option is 'raise' which will throw an error, and the last is to 'omit' which simply ignores pairs with missing values, and is the one I would use. "
   ]
  },
  {
   "cell_type": "code",
   "execution_count": 24,
   "metadata": {},
   "outputs": [
    {
     "data": {
      "text/plain": [
       "Ttest_relResult(statistic=-2.398927226696023, pvalue=0.02494298862638759)"
      ]
     },
     "execution_count": 24,
     "metadata": {},
     "output_type": "execute_result"
    }
   ],
   "source": [
    "ttest_rel(myDf['before'], myDf['after'], nan_policy='omit')"
   ]
  },
  {
   "cell_type": "markdown",
   "metadata": {},
   "source": [
    "In the example we find a t-value of 2.399 with a significance of 0.025. This means that there is a 0.025 (2.5%) chance of a t-value of less than -2.399 or a t-value of more than 2.399, if this t-value would be 0 in the population (i.e. no difference = equal means). \n",
    "\n",
    "With a usual 0.05 significance level we consider this chance to be so low, that most likely there is actually a difference in the population as well (and not only in the sample)."
   ]
  },
  {
   "cell_type": "markdown",
   "metadata": {},
   "source": [
    "We can also use the '<a href=\"https://researchpy.readthedocs.io/en/latest/ttest_documentation.html\">ttest</a>' function from researchpy to perform the test:"
   ]
  },
  {
   "cell_type": "code",
   "execution_count": 25,
   "metadata": {},
   "outputs": [],
   "source": [
    "# !pip install researchpy\n",
    "from researchpy import ttest as rpTtest"
   ]
  },
  {
   "cell_type": "code",
   "execution_count": 26,
   "metadata": {},
   "outputs": [
    {
     "data": {
      "text/plain": [
       "(  Variable     N       Mean         SD        SE  95% Conf.   Interval\n",
       " 0   before  24.0  32.250000  22.552837  4.603578  22.726772  41.773228\n",
       " 1    after  24.0  44.083333  30.144459  6.153212  31.354445  56.812222\n",
       " 2     diff  24.0 -11.833333  24.165492  4.932760 -22.037526  -1.629141,\n",
       "             Paired samples t-test  results\n",
       " 0  Difference (before - after) =  -11.8333\n",
       " 1           Degrees of freedom =   23.0000\n",
       " 2                            t =   -2.3989\n",
       " 3        Two side test p value =    0.0249\n",
       " 4       Difference < 0 p value =    0.0125\n",
       " 5       Difference > 0 p value =    0.9875\n",
       " 6                    Cohen's d =   -0.4897\n",
       " 7                    Hedge's g =   -0.4817\n",
       " 8                Glass's delta =   -0.5247\n",
       " 9                            r =    0.4474)"
      ]
     },
     "execution_count": 26,
     "metadata": {},
     "output_type": "execute_result"
    }
   ],
   "source": [
    "rpRes = rpTtest(myDf['before'], myDf['after'], equal_variances=True, paired=True)\n",
    "rpRes"
   ]
  },
  {
   "cell_type": "markdown",
   "metadata": {},
   "source": [
    "More results, but the t-value and the p-value are the same. A nice addition is the degrees of freedom, which usually is needed to report the results.\n",
    "\n",
    "Pingouin also can do the paired t-test, with the function named '<a href=\"https://pingouin-stats.org/generated/pingouin.ttest.html#pingouin.ttest\">ttest</a>':"
   ]
  },
  {
   "cell_type": "code",
   "execution_count": 27,
   "metadata": {},
   "outputs": [],
   "source": [
    "# !pip install pingouin\n",
    "from pingouin import ttest as pgTtest"
   ]
  },
  {
   "cell_type": "code",
   "execution_count": 28,
   "metadata": {},
   "outputs": [
    {
     "data": {
      "text/html": [
       "<div>\n",
       "<style scoped>\n",
       "    .dataframe tbody tr th:only-of-type {\n",
       "        vertical-align: middle;\n",
       "    }\n",
       "\n",
       "    .dataframe tbody tr th {\n",
       "        vertical-align: top;\n",
       "    }\n",
       "\n",
       "    .dataframe thead th {\n",
       "        text-align: right;\n",
       "    }\n",
       "</style>\n",
       "<table border=\"1\" class=\"dataframe\">\n",
       "  <thead>\n",
       "    <tr style=\"text-align: right;\">\n",
       "      <th></th>\n",
       "      <th>T</th>\n",
       "      <th>dof</th>\n",
       "      <th>tail</th>\n",
       "      <th>p-val</th>\n",
       "      <th>CI95%</th>\n",
       "      <th>cohen-d</th>\n",
       "      <th>BF10</th>\n",
       "      <th>power</th>\n",
       "    </tr>\n",
       "  </thead>\n",
       "  <tbody>\n",
       "    <tr>\n",
       "      <th>T-test</th>\n",
       "      <td>-2.398927</td>\n",
       "      <td>23</td>\n",
       "      <td>two-sided</td>\n",
       "      <td>0.024943</td>\n",
       "      <td>[-22.04, -1.63]</td>\n",
       "      <td>0.444517</td>\n",
       "      <td>2.272</td>\n",
       "      <td>0.55029</td>\n",
       "    </tr>\n",
       "  </tbody>\n",
       "</table>\n",
       "</div>"
      ],
      "text/plain": [
       "               T  dof       tail     p-val            CI95%   cohen-d   BF10  \\\n",
       "T-test -2.398927   23  two-sided  0.024943  [-22.04, -1.63]  0.444517  2.272   \n",
       "\n",
       "          power  \n",
       "T-test  0.55029  "
      ]
     },
     "execution_count": 28,
     "metadata": {},
     "output_type": "execute_result"
    }
   ],
   "source": [
    "pgTtest(myDf['before'], myDf['after'], paired=True)"
   ]
  },
  {
   "cell_type": "markdown",
   "metadata": {},
   "source": [
    "For those interested, in the appendix I'll go over the formulas involved and avoid using libraries as much as possible (only for the t distribution to get the  p-value)."
   ]
  },
  {
   "cell_type": "markdown",
   "metadata": {},
   "source": [
    "## References\n",
    "\n",
    "McDonald, J. H. (2014). *Handbook of Biological Statistics* (3rd ed.). Baltimore: Sparky House Publishing."
   ]
  },
  {
   "cell_type": "markdown",
   "metadata": {},
   "source": [
    "## Appendix: The Hard Way"
   ]
  },
  {
   "cell_type": "markdown",
   "metadata": {},
   "source": [
    "First we convert our pandas series to a Python native format: a list"
   ]
  },
  {
   "cell_type": "code",
   "execution_count": 29,
   "metadata": {},
   "outputs": [],
   "source": [
    "X = list(myDf['before'])\n",
    "Y = list(myDf['after'])"
   ]
  },
  {
   "cell_type": "markdown",
   "metadata": {},
   "source": [
    "The number of pairs (n) we have is useful to have available:"
   ]
  },
  {
   "cell_type": "code",
   "execution_count": 30,
   "metadata": {},
   "outputs": [
    {
     "data": {
      "text/plain": [
       "24"
      ]
     },
     "execution_count": 30,
     "metadata": {},
     "output_type": "execute_result"
    }
   ],
   "source": [
    "n = len(X)\n",
    "n"
   ]
  },
  {
   "cell_type": "markdown",
   "metadata": {},
   "source": [
    "Calculate the difference for each pair.\n",
    "\n",
    "\\begin{equation*}\n",
    "d_i = X_{i} - Y_{i}\n",
    "\\end{equation*}\n"
   ]
  },
  {
   "cell_type": "code",
   "execution_count": 31,
   "metadata": {},
   "outputs": [
    {
     "name": "stdout",
     "output_type": "stream",
     "text": [
      "[-8.0, -4.0, -18.0, -20.0, -48.0, -8.0, -12.0, 4.0, -12.0, -14.0, -14.0, 4.0, 22.0, -64.0, -28.0, -18.0, 10.0, -48.0, -30.0, 42.0, -16.0, -16.0, -22.0, 34.0]\n"
     ]
    }
   ],
   "source": [
    "d = []\n",
    "for i in range(n):\n",
    "    d = d + [X[i] - Y[i]]\n",
    "    \n",
    "print(d)"
   ]
  },
  {
   "cell_type": "markdown",
   "metadata": {},
   "source": [
    "Determine the mean of all these differences:\n",
    "\n",
    "\\begin{equation*}\n",
    "\\bar{d} = \\frac{\\sum_{i=1}^n d_i} {n}\n",
    "\\end{equation*}"
   ]
  },
  {
   "cell_type": "code",
   "execution_count": 32,
   "metadata": {},
   "outputs": [
    {
     "data": {
      "text/plain": [
       "-11.833333333333334"
      ]
     },
     "execution_count": 32,
     "metadata": {},
     "output_type": "execute_result"
    }
   ],
   "source": [
    "meanD = sum(d) / n\n",
    "meanD"
   ]
  },
  {
   "cell_type": "markdown",
   "metadata": {},
   "source": [
    "Determine the sum of squares of the differences:\n",
    "\n",
    "\\begin{equation*}\n",
    "SS_d = \\sum_{i=1}^n \\left( d_i - \\bar{d} \\right)^2\n",
    "\\end{equation*}\n"
   ]
  },
  {
   "cell_type": "code",
   "execution_count": 33,
   "metadata": {},
   "outputs": [
    {
     "data": {
      "text/plain": [
       "13431.333333333334"
      ]
     },
     "execution_count": 33,
     "metadata": {},
     "output_type": "execute_result"
    }
   ],
   "source": [
    "SSd = 0\n",
    "\n",
    "for i in range(n):\n",
    "    SSd = SSd + (d[i] - meanD)**2\n",
    "\n",
    "SSd"
   ]
  },
  {
   "cell_type": "markdown",
   "metadata": {},
   "source": [
    "The standard deviation of the differences can then be determined using:\n",
    "\\begin{equation*}\n",
    "s_d = \\sqrt{\\frac{SS_d} {n-1}}\n",
    "\\end{equation*}"
   ]
  },
  {
   "cell_type": "code",
   "execution_count": 34,
   "metadata": {},
   "outputs": [
    {
     "data": {
      "text/plain": [
       "24.165492225335566"
      ]
     },
     "execution_count": 34,
     "metadata": {},
     "output_type": "execute_result"
    }
   ],
   "source": [
    "sd = (SSd / (n - 1))**0.5\n",
    "sd"
   ]
  },
  {
   "cell_type": "markdown",
   "metadata": {},
   "source": [
    "The standard error is then:\n",
    "\n",
    "\\begin{equation*}\n",
    "SE_d = \\frac{s_d} {\\sqrt{n}}\n",
    "\\end{equation*}"
   ]
  },
  {
   "cell_type": "code",
   "execution_count": 35,
   "metadata": {},
   "outputs": [
    {
     "data": {
      "text/plain": [
       "4.932760444605509"
      ]
     },
     "execution_count": 35,
     "metadata": {},
     "output_type": "execute_result"
    }
   ],
   "source": [
    "SEd = sd / n**0.5\n",
    "SEd"
   ]
  },
  {
   "cell_type": "markdown",
   "metadata": {},
   "source": [
    "Finally the t value can be determined using:\n",
    "\\begin{equation*}\n",
    "t = \\frac{\\bar{d}} {SE_d}\n",
    "\\end{equation*}\n",
    "\n",
    "Note that if you are testing against a specific difference (e.g. you assume the difference is 3) then the numerator becomes $\\bar{d} - \\mu_{h_0}$ where $\\mu_{h_0}$ is your hypothesized difference. In other cases if you are just checking for a difference this can be ignored since then $\\mu_{h_0} = 0$"
   ]
  },
  {
   "cell_type": "code",
   "execution_count": 36,
   "metadata": {},
   "outputs": [
    {
     "data": {
      "text/plain": [
       "-2.398927226696023"
      ]
     },
     "execution_count": 36,
     "metadata": {},
     "output_type": "execute_result"
    }
   ],
   "source": [
    "tVal = meanD / SEd\n",
    "tVal"
   ]
  },
  {
   "cell_type": "markdown",
   "metadata": {},
   "source": [
    "To find the corresponding p-value we would need the degrees of freedom, which is defined for this test as:\n",
    "\n",
    "\\begin{equation*}\n",
    "df = n - 1\n",
    "\\end{equation*}"
   ]
  },
  {
   "cell_type": "code",
   "execution_count": 37,
   "metadata": {},
   "outputs": [
    {
     "data": {
      "text/plain": [
       "23"
      ]
     },
     "execution_count": 37,
     "metadata": {},
     "output_type": "execute_result"
    }
   ],
   "source": [
    "df = n - 1\n",
    "df"
   ]
  },
  {
   "cell_type": "markdown",
   "metadata": {},
   "source": [
    "To find the p-value of a t-value with a specific df, we will need a package. Scipy.stats has a t distribution, so lets use that:"
   ]
  },
  {
   "cell_type": "code",
   "execution_count": 38,
   "metadata": {},
   "outputs": [],
   "source": [
    "from scipy.stats import t"
   ]
  },
  {
   "cell_type": "markdown",
   "metadata": {},
   "source": [
    "Finally to get the p-value:"
   ]
  },
  {
   "cell_type": "code",
   "execution_count": 39,
   "metadata": {},
   "outputs": [
    {
     "data": {
      "text/plain": [
       "0.02494298862638759"
      ]
     },
     "execution_count": 39,
     "metadata": {},
     "output_type": "execute_result"
    }
   ],
   "source": [
    "t.sf(abs(tVal),df)*2"
   ]
  },
  {
   "cell_type": "code",
   "execution_count": null,
   "metadata": {},
   "outputs": [],
   "source": []
  }
 ],
 "metadata": {
  "kernelspec": {
   "display_name": "Python 3",
   "language": "python",
   "name": "python3"
  },
  "language_info": {
   "codemirror_mode": {
    "name": "ipython",
    "version": 3
   },
   "file_extension": ".py",
   "mimetype": "text/x-python",
   "name": "python",
   "nbconvert_exporter": "python",
   "pygments_lexer": "ipython3",
   "version": "3.12.1"
  }
 },
 "nbformat": 4,
 "nbformat_minor": 4
}
